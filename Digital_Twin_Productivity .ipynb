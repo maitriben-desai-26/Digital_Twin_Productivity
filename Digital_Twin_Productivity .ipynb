{
  "cells": [
    {
      "cell_type": "markdown",
      "metadata": {
        "id": "ZqCm7-_HBgLG"
      },
      "source": [
        "# Digital Twin for Remote/Hybrid Productivity — Three Models\n",
        "\n",
        "Dataset: Kaggle CSV: _Remote Work Productivity_.\n",
        "\n",
        "- **Target**: `productivity_label = 1` if `Productivity_Score >= 60`, else `0`\n",
        "- **Features**: `Hours_Worked_Per_Week`, `Well_Being_Score`, `is_remote`\n",
        "- **Models**: Logistic Regression (baseline), Random Forest (main), Gradient Boosting (extra)\n",
        "- **Evaluation**: Accuracy, Precision, Recall, F1, Confusion Matrix\n",
        "- **Digital Twin**: What-if A (−10% hours), What-if B (+10 well-being)\n",
        "                    What-if C (low WB & high hours subgroup), What-if D(borderline mode swap)\n",
        "\n",
        "* Scenario A: Reduce hours by 10% for all employees\n",
        "\n",
        "* Scenario B: Increase well-being score by +10 (capped at 100) for all employees\n",
        "\n",
        "* Scenario C: Joint intervention for subgroup with low well-being (<50) and high hours (>45)\n",
        "\n",
        "* Scenario D: Mode swap (remote ↔ office) for borderline prediction cases (p ≈ 0.5)"
      ],
      "id": "ZqCm7-_HBgLG"
    },
    {
      "cell_type": "markdown",
      "metadata": {
        "id": "SRfIZZz2BgLK"
      },
      "source": [
        "## Step 1 — Import Libraries"
      ],
      "id": "SRfIZZz2BgLK"
    },
    {
      "cell_type": "code",
      "metadata": {
        "id": "zIc78Ml6BgLL"
      },
      "execution_count": 148,
      "outputs": [],
      "source": [
        "import pandas as pd\n",
        "import numpy as np\n",
        "import matplotlib.pyplot as plt\n",
        "\n",
        "from sklearn.model_selection import train_test_split\n",
        "from sklearn.linear_model import LogisticRegression\n",
        "from sklearn.ensemble import RandomForestClassifier, GradientBoostingClassifier\n",
        "from sklearn.metrics import accuracy_score, precision_score, recall_score, f1_score, confusion_matrix\n",
        "from sklearn.metrics import ConfusionMatrixDisplay\n",
        "\n",
        "np.random.seed(42)"
      ],
      "id": "zIc78Ml6BgLL"
    },
    {
      "cell_type": "markdown",
      "metadata": {
        "id": "zVPuylgzBgLN"
      },
      "source": [
        "## Step 2 — Load Dataset"
      ],
      "id": "zVPuylgzBgLN"
    },
    {
      "cell_type": "code",
      "metadata": {
        "id": "7Y2bKaOOBgLN",
        "colab": {
          "base_uri": "https://localhost:8080/",
          "height": 206
        },
        "outputId": "1546a91e-9bcb-4407-d917-12375c4271c3"
      },
      "execution_count": 149,
      "outputs": [
        {
          "output_type": "execute_result",
          "data": {
            "text/plain": [
              "   Employee_ID Employment_Type  Hours_Worked_Per_Week  Productivity_Score  \\\n",
              "0            1          Remote                     29                  75   \n",
              "1            2       In-Office                     45                  49   \n",
              "2            3          Remote                     34                  74   \n",
              "3            4          Remote                     25                  81   \n",
              "4            5          Remote                     50                  70   \n",
              "\n",
              "   Well_Being_Score  \n",
              "0                78  \n",
              "1                47  \n",
              "2                89  \n",
              "3                84  \n",
              "4                74  "
            ],
            "text/html": [
              "\n",
              "  <div id=\"df-7e9f2669-c69c-4b9f-b9fb-b7aee59dc466\" class=\"colab-df-container\">\n",
              "    <div>\n",
              "<style scoped>\n",
              "    .dataframe tbody tr th:only-of-type {\n",
              "        vertical-align: middle;\n",
              "    }\n",
              "\n",
              "    .dataframe tbody tr th {\n",
              "        vertical-align: top;\n",
              "    }\n",
              "\n",
              "    .dataframe thead th {\n",
              "        text-align: right;\n",
              "    }\n",
              "</style>\n",
              "<table border=\"1\" class=\"dataframe\">\n",
              "  <thead>\n",
              "    <tr style=\"text-align: right;\">\n",
              "      <th></th>\n",
              "      <th>Employee_ID</th>\n",
              "      <th>Employment_Type</th>\n",
              "      <th>Hours_Worked_Per_Week</th>\n",
              "      <th>Productivity_Score</th>\n",
              "      <th>Well_Being_Score</th>\n",
              "    </tr>\n",
              "  </thead>\n",
              "  <tbody>\n",
              "    <tr>\n",
              "      <th>0</th>\n",
              "      <td>1</td>\n",
              "      <td>Remote</td>\n",
              "      <td>29</td>\n",
              "      <td>75</td>\n",
              "      <td>78</td>\n",
              "    </tr>\n",
              "    <tr>\n",
              "      <th>1</th>\n",
              "      <td>2</td>\n",
              "      <td>In-Office</td>\n",
              "      <td>45</td>\n",
              "      <td>49</td>\n",
              "      <td>47</td>\n",
              "    </tr>\n",
              "    <tr>\n",
              "      <th>2</th>\n",
              "      <td>3</td>\n",
              "      <td>Remote</td>\n",
              "      <td>34</td>\n",
              "      <td>74</td>\n",
              "      <td>89</td>\n",
              "    </tr>\n",
              "    <tr>\n",
              "      <th>3</th>\n",
              "      <td>4</td>\n",
              "      <td>Remote</td>\n",
              "      <td>25</td>\n",
              "      <td>81</td>\n",
              "      <td>84</td>\n",
              "    </tr>\n",
              "    <tr>\n",
              "      <th>4</th>\n",
              "      <td>5</td>\n",
              "      <td>Remote</td>\n",
              "      <td>50</td>\n",
              "      <td>70</td>\n",
              "      <td>74</td>\n",
              "    </tr>\n",
              "  </tbody>\n",
              "</table>\n",
              "</div>\n",
              "    <div class=\"colab-df-buttons\">\n",
              "\n",
              "  <div class=\"colab-df-container\">\n",
              "    <button class=\"colab-df-convert\" onclick=\"convertToInteractive('df-7e9f2669-c69c-4b9f-b9fb-b7aee59dc466')\"\n",
              "            title=\"Convert this dataframe to an interactive table.\"\n",
              "            style=\"display:none;\">\n",
              "\n",
              "  <svg xmlns=\"http://www.w3.org/2000/svg\" height=\"24px\" viewBox=\"0 -960 960 960\">\n",
              "    <path d=\"M120-120v-720h720v720H120Zm60-500h600v-160H180v160Zm220 220h160v-160H400v160Zm0 220h160v-160H400v160ZM180-400h160v-160H180v160Zm440 0h160v-160H620v160ZM180-180h160v-160H180v160Zm440 0h160v-160H620v160Z\"/>\n",
              "  </svg>\n",
              "    </button>\n",
              "\n",
              "  <style>\n",
              "    .colab-df-container {\n",
              "      display:flex;\n",
              "      gap: 12px;\n",
              "    }\n",
              "\n",
              "    .colab-df-convert {\n",
              "      background-color: #E8F0FE;\n",
              "      border: none;\n",
              "      border-radius: 50%;\n",
              "      cursor: pointer;\n",
              "      display: none;\n",
              "      fill: #1967D2;\n",
              "      height: 32px;\n",
              "      padding: 0 0 0 0;\n",
              "      width: 32px;\n",
              "    }\n",
              "\n",
              "    .colab-df-convert:hover {\n",
              "      background-color: #E2EBFA;\n",
              "      box-shadow: 0px 1px 2px rgba(60, 64, 67, 0.3), 0px 1px 3px 1px rgba(60, 64, 67, 0.15);\n",
              "      fill: #174EA6;\n",
              "    }\n",
              "\n",
              "    .colab-df-buttons div {\n",
              "      margin-bottom: 4px;\n",
              "    }\n",
              "\n",
              "    [theme=dark] .colab-df-convert {\n",
              "      background-color: #3B4455;\n",
              "      fill: #D2E3FC;\n",
              "    }\n",
              "\n",
              "    [theme=dark] .colab-df-convert:hover {\n",
              "      background-color: #434B5C;\n",
              "      box-shadow: 0px 1px 3px 1px rgba(0, 0, 0, 0.15);\n",
              "      filter: drop-shadow(0px 1px 2px rgba(0, 0, 0, 0.3));\n",
              "      fill: #FFFFFF;\n",
              "    }\n",
              "  </style>\n",
              "\n",
              "    <script>\n",
              "      const buttonEl =\n",
              "        document.querySelector('#df-7e9f2669-c69c-4b9f-b9fb-b7aee59dc466 button.colab-df-convert');\n",
              "      buttonEl.style.display =\n",
              "        google.colab.kernel.accessAllowed ? 'block' : 'none';\n",
              "\n",
              "      async function convertToInteractive(key) {\n",
              "        const element = document.querySelector('#df-7e9f2669-c69c-4b9f-b9fb-b7aee59dc466');\n",
              "        const dataTable =\n",
              "          await google.colab.kernel.invokeFunction('convertToInteractive',\n",
              "                                                    [key], {});\n",
              "        if (!dataTable) return;\n",
              "\n",
              "        const docLinkHtml = 'Like what you see? Visit the ' +\n",
              "          '<a target=\"_blank\" href=https://colab.research.google.com/notebooks/data_table.ipynb>data table notebook</a>'\n",
              "          + ' to learn more about interactive tables.';\n",
              "        element.innerHTML = '';\n",
              "        dataTable['output_type'] = 'display_data';\n",
              "        await google.colab.output.renderOutput(dataTable, element);\n",
              "        const docLink = document.createElement('div');\n",
              "        docLink.innerHTML = docLinkHtml;\n",
              "        element.appendChild(docLink);\n",
              "      }\n",
              "    </script>\n",
              "  </div>\n",
              "\n",
              "\n",
              "    <div id=\"df-84ed00de-e85a-45c1-a9e8-daecbfaff6b1\">\n",
              "      <button class=\"colab-df-quickchart\" onclick=\"quickchart('df-84ed00de-e85a-45c1-a9e8-daecbfaff6b1')\"\n",
              "                title=\"Suggest charts\"\n",
              "                style=\"display:none;\">\n",
              "\n",
              "<svg xmlns=\"http://www.w3.org/2000/svg\" height=\"24px\"viewBox=\"0 0 24 24\"\n",
              "     width=\"24px\">\n",
              "    <g>\n",
              "        <path d=\"M19 3H5c-1.1 0-2 .9-2 2v14c0 1.1.9 2 2 2h14c1.1 0 2-.9 2-2V5c0-1.1-.9-2-2-2zM9 17H7v-7h2v7zm4 0h-2V7h2v10zm4 0h-2v-4h2v4z\"/>\n",
              "    </g>\n",
              "</svg>\n",
              "      </button>\n",
              "\n",
              "<style>\n",
              "  .colab-df-quickchart {\n",
              "      --bg-color: #E8F0FE;\n",
              "      --fill-color: #1967D2;\n",
              "      --hover-bg-color: #E2EBFA;\n",
              "      --hover-fill-color: #174EA6;\n",
              "      --disabled-fill-color: #AAA;\n",
              "      --disabled-bg-color: #DDD;\n",
              "  }\n",
              "\n",
              "  [theme=dark] .colab-df-quickchart {\n",
              "      --bg-color: #3B4455;\n",
              "      --fill-color: #D2E3FC;\n",
              "      --hover-bg-color: #434B5C;\n",
              "      --hover-fill-color: #FFFFFF;\n",
              "      --disabled-bg-color: #3B4455;\n",
              "      --disabled-fill-color: #666;\n",
              "  }\n",
              "\n",
              "  .colab-df-quickchart {\n",
              "    background-color: var(--bg-color);\n",
              "    border: none;\n",
              "    border-radius: 50%;\n",
              "    cursor: pointer;\n",
              "    display: none;\n",
              "    fill: var(--fill-color);\n",
              "    height: 32px;\n",
              "    padding: 0;\n",
              "    width: 32px;\n",
              "  }\n",
              "\n",
              "  .colab-df-quickchart:hover {\n",
              "    background-color: var(--hover-bg-color);\n",
              "    box-shadow: 0 1px 2px rgba(60, 64, 67, 0.3), 0 1px 3px 1px rgba(60, 64, 67, 0.15);\n",
              "    fill: var(--button-hover-fill-color);\n",
              "  }\n",
              "\n",
              "  .colab-df-quickchart-complete:disabled,\n",
              "  .colab-df-quickchart-complete:disabled:hover {\n",
              "    background-color: var(--disabled-bg-color);\n",
              "    fill: var(--disabled-fill-color);\n",
              "    box-shadow: none;\n",
              "  }\n",
              "\n",
              "  .colab-df-spinner {\n",
              "    border: 2px solid var(--fill-color);\n",
              "    border-color: transparent;\n",
              "    border-bottom-color: var(--fill-color);\n",
              "    animation:\n",
              "      spin 1s steps(1) infinite;\n",
              "  }\n",
              "\n",
              "  @keyframes spin {\n",
              "    0% {\n",
              "      border-color: transparent;\n",
              "      border-bottom-color: var(--fill-color);\n",
              "      border-left-color: var(--fill-color);\n",
              "    }\n",
              "    20% {\n",
              "      border-color: transparent;\n",
              "      border-left-color: var(--fill-color);\n",
              "      border-top-color: var(--fill-color);\n",
              "    }\n",
              "    30% {\n",
              "      border-color: transparent;\n",
              "      border-left-color: var(--fill-color);\n",
              "      border-top-color: var(--fill-color);\n",
              "      border-right-color: var(--fill-color);\n",
              "    }\n",
              "    40% {\n",
              "      border-color: transparent;\n",
              "      border-right-color: var(--fill-color);\n",
              "      border-top-color: var(--fill-color);\n",
              "    }\n",
              "    60% {\n",
              "      border-color: transparent;\n",
              "      border-right-color: var(--fill-color);\n",
              "    }\n",
              "    80% {\n",
              "      border-color: transparent;\n",
              "      border-right-color: var(--fill-color);\n",
              "      border-bottom-color: var(--fill-color);\n",
              "    }\n",
              "    90% {\n",
              "      border-color: transparent;\n",
              "      border-bottom-color: var(--fill-color);\n",
              "    }\n",
              "  }\n",
              "</style>\n",
              "\n",
              "      <script>\n",
              "        async function quickchart(key) {\n",
              "          const quickchartButtonEl =\n",
              "            document.querySelector('#' + key + ' button');\n",
              "          quickchartButtonEl.disabled = true;  // To prevent multiple clicks.\n",
              "          quickchartButtonEl.classList.add('colab-df-spinner');\n",
              "          try {\n",
              "            const charts = await google.colab.kernel.invokeFunction(\n",
              "                'suggestCharts', [key], {});\n",
              "          } catch (error) {\n",
              "            console.error('Error during call to suggestCharts:', error);\n",
              "          }\n",
              "          quickchartButtonEl.classList.remove('colab-df-spinner');\n",
              "          quickchartButtonEl.classList.add('colab-df-quickchart-complete');\n",
              "        }\n",
              "        (() => {\n",
              "          let quickchartButtonEl =\n",
              "            document.querySelector('#df-84ed00de-e85a-45c1-a9e8-daecbfaff6b1 button');\n",
              "          quickchartButtonEl.style.display =\n",
              "            google.colab.kernel.accessAllowed ? 'block' : 'none';\n",
              "        })();\n",
              "      </script>\n",
              "    </div>\n",
              "\n",
              "    </div>\n",
              "  </div>\n"
            ],
            "application/vnd.google.colaboratory.intrinsic+json": {
              "type": "dataframe",
              "variable_name": "df",
              "summary": "{\n  \"name\": \"df\",\n  \"rows\": 1000,\n  \"fields\": [\n    {\n      \"column\": \"Employee_ID\",\n      \"properties\": {\n        \"dtype\": \"number\",\n        \"std\": 288,\n        \"min\": 1,\n        \"max\": 1000,\n        \"num_unique_values\": 1000,\n        \"samples\": [\n          522,\n          738,\n          741\n        ],\n        \"semantic_type\": \"\",\n        \"description\": \"\"\n      }\n    },\n    {\n      \"column\": \"Employment_Type\",\n      \"properties\": {\n        \"dtype\": \"category\",\n        \"num_unique_values\": 2,\n        \"samples\": [\n          \"In-Office\",\n          \"Remote\"\n        ],\n        \"semantic_type\": \"\",\n        \"description\": \"\"\n      }\n    },\n    {\n      \"column\": \"Hours_Worked_Per_Week\",\n      \"properties\": {\n        \"dtype\": \"number\",\n        \"std\": 8,\n        \"min\": 16,\n        \"max\": 64,\n        \"num_unique_values\": 46,\n        \"samples\": [\n          22,\n          52\n        ],\n        \"semantic_type\": \"\",\n        \"description\": \"\"\n      }\n    },\n    {\n      \"column\": \"Productivity_Score\",\n      \"properties\": {\n        \"dtype\": \"number\",\n        \"std\": 12,\n        \"min\": 33,\n        \"max\": 112,\n        \"num_unique_values\": 71,\n        \"samples\": [\n          60,\n          75\n        ],\n        \"semantic_type\": \"\",\n        \"description\": \"\"\n      }\n    },\n    {\n      \"column\": \"Well_Being_Score\",\n      \"properties\": {\n        \"dtype\": \"number\",\n        \"std\": 13,\n        \"min\": 14,\n        \"max\": 104,\n        \"num_unique_values\": 81,\n        \"samples\": [\n          61,\n          78\n        ],\n        \"semantic_type\": \"\",\n        \"description\": \"\"\n      }\n    }\n  ]\n}"
            }
          },
          "metadata": {},
          "execution_count": 149
        }
      ],
      "source": [
        "df = pd.read_csv(\"remote_work_productivity.csv\")\n",
        "df.head()"
      ],
      "id": "7Y2bKaOOBgLN"
    },
    {
      "cell_type": "markdown",
      "metadata": {
        "id": "x0UaosHVBgLN"
      },
      "source": [
        "**Explanation:**  \n",
        "\n",
        "---\n",
        "\n",
        "\n",
        "Load the Kaggle CSV directly with one line. `df.head()` previews the first rows to confirm schema."
      ],
      "id": "x0UaosHVBgLN"
    },
    {
      "cell_type": "markdown",
      "source": [
        "The dataset used in this project is the **Remote Work Productivity Dataset** from Kaggle.  \n",
        "It contains information about employees working either remotely or in-office.  \n",
        "The data combines quantitative measures of workload, productivity, and well-being.\n",
        "\n",
        "**Columns:**\n",
        "- **Employee_ID**: Unique identifier for each employee.  \n",
        "- **Employment_Type**: Categorical feature, either \"Remote\" or \"In-Office\".  \n",
        "- **Hours_Worked_Per_Week**: Numeric feature indicating weekly work hours.  \n",
        "- **Productivity_Score**: A score (0–100) estimating employee productivity.  \n",
        "- **Well_Being_Score**: A score (0–100) reflecting employee well-being.  \n",
        "\n",
        "**Target Variable:**\n",
        "- We derive a new column `productivity_label`:  \n",
        "  - `1` if `Productivity_Score >= 60` (productive)  \n",
        "  - `0` otherwise (less productive).  \n"
      ],
      "metadata": {
        "id": "DWD11dWIF11o"
      },
      "id": "DWD11dWIF11o"
    },
    {
      "cell_type": "markdown",
      "metadata": {
        "id": "YmPnuVLWBgLO"
      },
      "source": [
        "## Step 3 — Prepare Features and Labels"
      ],
      "id": "YmPnuVLWBgLO"
    },
    {
      "cell_type": "code",
      "metadata": {
        "id": "nmfFNjAHBgLO",
        "colab": {
          "base_uri": "https://localhost:8080/"
        },
        "outputId": "a6d751a6-f691-4acd-ab73-bafe0729c32a"
      },
      "execution_count": 150,
      "outputs": [
        {
          "output_type": "stream",
          "name": "stdout",
          "text": [
            "Training set size: 750\n",
            "Test set size: 250\n",
            "Feature columns: ['Hours_Worked_Per_Week', 'Well_Being_Score', 'is_remote']\n"
          ]
        }
      ],
      "source": [
        "# Label: Productive if score >= 60\n",
        "df['productivity_label'] = (df['Productivity_Score'] >= 60).astype(int)\n",
        "\n",
        "# Encode remote status\n",
        "df['is_remote'] = df['Employment_Type'].str.lower().str.contains('remote').astype(int)\n",
        "\n",
        "# Features and target\n",
        "X = df[['Hours_Worked_Per_Week', 'Well_Being_Score', 'is_remote']]\n",
        "y = df['productivity_label']\n",
        "\n",
        "# Train/test split\n",
        "X_train, X_test, y_train, y_test = train_test_split(\n",
        "    X, y, test_size=0.25, random_state=42, stratify=y\n",
        ")\n",
        "\n",
        "# After splitting\n",
        "print(\"Training set size:\", X_train.shape[0])\n",
        "print(\"Test set size:\", X_test.shape[0])\n",
        "print(\"Feature columns:\", list(X.columns))\n"
      ],
      "id": "nmfFNjAHBgLO"
    },
    {
      "cell_type": "markdown",
      "metadata": {
        "id": "JdQnJ7g6BgLP"
      },
      "source": [
        "## Step 4a — Train Logistic Regression (Baseline)"
      ],
      "id": "JdQnJ7g6BgLP"
    },
    {
      "cell_type": "code",
      "metadata": {
        "id": "afRUJFktBgLP",
        "colab": {
          "base_uri": "https://localhost:8080/"
        },
        "outputId": "c916cb8d-871f-40b6-c695-926c3abe2c5d"
      },
      "execution_count": 151,
      "outputs": [
        {
          "output_type": "stream",
          "name": "stdout",
          "text": [
            "Logistic Regression coefficients: [[ 0.01670914 -0.00337527  1.49788198]]\n",
            "First 10 predictions: [1 1 1 1 1 1 1 1 1 1]\n"
          ]
        }
      ],
      "source": [
        "lr = LogisticRegression(max_iter=1000)\n",
        "lr.fit(X_train, y_train)\n",
        "y_pred_lr = lr.predict(X_test)\n",
        "\n",
        "print(\"Logistic Regression coefficients:\", lr.coef_)\n",
        "print(\"First 10 predictions:\", y_pred_lr[:10])"
      ],
      "id": "afRUJFktBgLP"
    },
    {
      "cell_type": "markdown",
      "metadata": {
        "id": "-LZgHjEwBgLP"
      },
      "source": [
        "**Explanation:**  \n",
        "A linear, interpretable baseline. Useful to compare against tree ensembles."
      ],
      "id": "-LZgHjEwBgLP"
    },
    {
      "cell_type": "markdown",
      "metadata": {
        "id": "edZEwE36BgLP"
      },
      "source": [
        "## Step 4b — Train Random Forest (Main Model)"
      ],
      "id": "edZEwE36BgLP"
    },
    {
      "cell_type": "code",
      "metadata": {
        "id": "6O1GbYPGBgLQ",
        "colab": {
          "base_uri": "https://localhost:8080/"
        },
        "outputId": "60b8b3a1-5c2c-4578-dee1-237c61cb17ae"
      },
      "execution_count": 152,
      "outputs": [
        {
          "output_type": "stream",
          "name": "stdout",
          "text": [
            "Random Forest trained with 200 trees\n",
            "First 10 predictions: [0 1 0 1 1 1 1 1 1 1]\n"
          ]
        }
      ],
      "source": [
        "rf = RandomForestClassifier(n_estimators=200, random_state=42, n_jobs=-1)\n",
        "rf.fit(X_train, y_train)\n",
        "y_pred_rf = rf.predict(X_test)\n",
        "\n",
        "print(\"Random Forest trained with\", len(rf.estimators_), \"trees\")\n",
        "print(\"First 10 predictions:\", y_pred_rf[:10])\n"
      ],
      "id": "6O1GbYPGBgLQ"
    },
    {
      "cell_type": "markdown",
      "metadata": {
        "id": "qKwcx1mOBgLQ"
      },
      "source": [
        "**Explanation:**  \n",
        "Random Forest captures nonlinearity and interactions and provides feature importance."
      ],
      "id": "qKwcx1mOBgLQ"
    },
    {
      "cell_type": "markdown",
      "metadata": {
        "id": "HGvxI4ChBgLQ"
      },
      "source": [
        "## Step 4c — Train Gradient Boosting (Extra)"
      ],
      "id": "HGvxI4ChBgLQ"
    },
    {
      "cell_type": "code",
      "metadata": {
        "id": "LgGRm9rgBgLQ",
        "colab": {
          "base_uri": "https://localhost:8080/"
        },
        "outputId": "31932fda-3965-4007-e873-6bca98298dd7"
      },
      "execution_count": 153,
      "outputs": [
        {
          "output_type": "stream",
          "name": "stdout",
          "text": [
            "Gradient Boosting number of stages: 100\n",
            "First 10 predictions: [1 1 1 1 1 1 1 1 1 1]\n"
          ]
        }
      ],
      "source": [
        "gb = GradientBoostingClassifier(random_state=42)\n",
        "gb.fit(X_train, y_train)\n",
        "y_pred_gb = gb.predict(X_test)\n",
        "\n",
        "print(\"Gradient Boosting number of stages:\", len(gb.estimators_))\n",
        "print(\"First 10 predictions:\", y_pred_gb[:10])"
      ],
      "id": "LgGRm9rgBgLQ"
    },
    {
      "cell_type": "markdown",
      "metadata": {
        "id": "HiVqPSMEBgLQ"
      },
      "source": [
        "**Explanation:**  \n",
        "Gradient Boosting builds trees sequentially to correct errors and often performs strongly."
      ],
      "id": "HiVqPSMEBgLQ"
    },
    {
      "cell_type": "markdown",
      "metadata": {
        "id": "ySXHBvy3BgLQ"
      },
      "source": [
        "## Step 5 — Compare Models (Accuracy / Precision / Recall / F1)"
      ],
      "id": "ySXHBvy3BgLQ"
    },
    {
      "cell_type": "code",
      "metadata": {
        "id": "24EfZlw3BgLQ"
      },
      "execution_count": 154,
      "outputs": [],
      "source": [
        "def metrics_dict(y_true, y_pred):\n",
        "    return {\n",
        "        'accuracy': accuracy_score(y_true, y_pred),\n",
        "        'precision': precision_score(y_true, y_pred, zero_division=0),\n",
        "        'recall': recall_score(y_true, y_pred, zero_division=0),\n",
        "        'f1': f1_score(y_true, y_pred, zero_division=0),\n",
        "    }\n",
        "\n",
        "results = {\n",
        "    'Logistic Regression': metrics_dict(y_test, y_pred_lr),\n",
        "    'Random Forest':       metrics_dict(y_test, y_pred_rf),\n",
        "    'Gradient Boosting':   metrics_dict(y_test, y_pred_gb),\n",
        "}\n",
        "\n",
        "df_results = pd.DataFrame(results).T\n",
        "df_results\n",
        "\n",
        "df_results.to_latex(\"model_comparison.tex\", float_format=\"%.6f\")"
      ],
      "id": "24EfZlw3BgLQ"
    },
    {
      "cell_type": "markdown",
      "metadata": {
        "id": "JeV_HkCKBgLQ"
      },
      "source": [
        "## Step 6 — Confusion Matrix (Random Forest)"
      ],
      "id": "JeV_HkCKBgLQ"
    },
    {
      "cell_type": "code",
      "metadata": {
        "id": "WZ-Exa3uBgLR",
        "colab": {
          "base_uri": "https://localhost:8080/",
          "height": 392
        },
        "outputId": "47bb538d-8c30-4330-987a-c80af066389c"
      },
      "execution_count": 155,
      "outputs": [
        {
          "output_type": "display_data",
          "data": {
            "text/plain": [
              "<Figure size 400x400 with 1 Axes>"
            ],
            "image/png": "[encoded data removed]"
          },
          "metadata": {}
        }
      ],
      "source": [
        "cm = confusion_matrix(y_test, y_pred_rf)\n",
        "\n",
        "plt.figure(figsize=(4,4))\n",
        "plt.imshow(cm, cmap='Blues')\n",
        "plt.title('Confusion Matrix — Random Forest')\n",
        "plt.xlabel('Predicted')\n",
        "plt.ylabel('Actual')\n",
        "for (i, j), v in np.ndenumerate(cm):\n",
        "    plt.text(j, i, str(v), ha='center', va='center')\n",
        "plt.tight_layout()\n",
        "\n",
        "# 🔹 Save the figure as PNG before showing\n",
        "plt.savefig(\"confusion_matrix_rf.png\", dpi=300, bbox_inches=\"tight\")\n",
        "\n",
        "plt.show()\n"
      ],
      "id": "WZ-Exa3uBgLR"
    },
    {
      "cell_type": "markdown",
      "metadata": {
        "id": "g1itengBBgLR"
      },
      "source": [
        "**Explanation:**  \n",
        "Visualizes correct vs. incorrect predictions for the main model. Comment on false positives/negatives."
      ],
      "id": "g1itengBBgLR"
    },
    {
      "cell_type": "markdown",
      "metadata": {
        "id": "AD3McZ3xBgLR"
      },
      "source": [
        "## Step 7 — Feature Importance (Random Forest)"
      ],
      "id": "AD3McZ3xBgLR"
    },
    {
      "cell_type": "code",
      "metadata": {
        "id": "evomlHXhBgLR",
        "colab": {
          "base_uri": "https://localhost:8080/",
          "height": 407
        },
        "outputId": "1bae4f21-68c3-4278-8f3d-22631d7f58c4"
      },
      "execution_count": 156,
      "outputs": [
        {
          "output_type": "display_data",
          "data": {
            "text/plain": [
              "<Figure size 600x400 with 1 Axes>"
            ],
            "image/png": "[encoded data removed]"
          },
          "metadata": {}
        }
      ],
      "source": [
        "importances = rf.feature_importances_\n",
        "order = np.argsort(importances)[::-1]\n",
        "\n",
        "plt.figure(figsize=(6,4))\n",
        "plt.bar(range(len(importances)), importances[order])\n",
        "plt.xticks(range(len(importances)), [X.columns[i] for i in order], rotation=30, ha='right')\n",
        "plt.title('Feature Importance — Random Forest')\n",
        "plt.tight_layout()\n",
        "\n",
        "\n",
        "# 🔹 Save the figure as PNG before showing\n",
        "plt.savefig(\"feature_importance.png\", dpi=300, bbox_inches=\"tight\")\n",
        "\n",
        "plt.show()"
      ],
      "id": "evomlHXhBgLR"
    },
    {
      "cell_type": "markdown",
      "metadata": {
        "id": "fZ6e-A8vBgLR"
      },
      "source": [
        "## Step 8 — Digital Twin Simulations (Random Forest)"
      ],
      "id": "fZ6e-A8vBgLR"
    },
    {
      "cell_type": "code",
      "metadata": {
        "id": "eNy3dslNBgLR",
        "colab": {
          "base_uri": "https://localhost:8080/"
        },
        "outputId": "15766b4a-54e9-4d13-f187-5a2bbd8f483b"
      },
      "execution_count": 157,
      "outputs": [
        {
          "output_type": "stream",
          "name": "stdout",
          "text": [
            "Base predicted productive rate: 0.776\n",
            "Scenario A (hours -10%):       0.808  change=+3.20 pp\n",
            "Scenario B (well-being +10):    0.820  change=+4.40 pp\n"
          ]
        }
      ],
      "source": [
        "def predicted_rate(model, X):\n",
        "    return model.predict(X).mean()\n",
        "\n",
        "base_rate = predicted_rate(rf, X_test.copy())\n",
        "\n",
        "# Scenario A: reduce hours by 10%\n",
        "X_A = X_test.copy()\n",
        "X_A['Hours_Worked_Per_Week'] = (X_A['Hours_Worked_Per_Week'] * 0.90).clip(lower=10)\n",
        "rate_A = predicted_rate(rf, X_A)\n",
        "\n",
        "# Scenario B: increase well-being by +10 points (cap at 100)\n",
        "X_B = X_test.copy()\n",
        "X_B['Well_Being_Score'] = np.clip(X_B['Well_Being_Score'] + 10, 0, 100)\n",
        "rate_B = predicted_rate(rf, X_B)\n",
        "\n",
        "print(f'Base predicted productive rate: {base_rate:.3f}')\n",
        "print(f'Scenario A (hours -10%):       {rate_A:.3f}  change={(rate_A - base_rate)*100:+.2f} pp')\n",
        "print(f'Scenario B (well-being +10):    {rate_B:.3f}  change={(rate_B - base_rate)*100:+.2f} pp')"
      ],
      "id": "eNy3dslNBgLR"
    },
    {
      "cell_type": "code",
      "source": [
        "# Scenario C: Low well-being (<50) & high hours (>45) joint intervention\n",
        "X_C = X_test.copy()\n",
        "mask_C = (X_C['Well_Being_Score'] < 50) & (X_C['Hours_Worked_Per_Week'] > 45)\n",
        "\n",
        "# Baseline for this subgroup\n",
        "y_true_C = y_test[mask_C]\n",
        "y_pred_C_base = rf.predict(X_C[mask_C])\n",
        "\n",
        "baseline_C_acc = accuracy_score(y_true_C, y_pred_C_base)\n",
        "baseline_C_f1  = f1_score(y_true_C, y_pred_C_base, zero_division=0)\n",
        "\n",
        "# Intervention: reduce hours by 5%, increase WB by +10 (cap 100)\n",
        "X_C.loc[mask_C, 'Hours_Worked_Per_Week'] *= 0.95\n",
        "X_C.loc[mask_C, 'Well_Being_Score'] = np.minimum(100, X_C.loc[mask_C, 'Well_Being_Score'] + 10)\n",
        "\n",
        "y_pred_C_int = rf.predict(X_C[mask_C])\n",
        "int_C_acc = accuracy_score(y_true_C, y_pred_C_int)\n",
        "int_C_f1  = f1_score(y_true_C, y_pred_C_int, zero_division=0)\n",
        "\n",
        "print(\"Scenario C (subgroup only)\")\n",
        "print(f\"Baseline: Accuracy={baseline_C_acc:.3f}, F1={baseline_C_f1:.3f}\")\n",
        "print(f\"Intervention: Accuracy={int_C_acc:.3f}, F1={int_C_f1:.3f}\")\n",
        "\n",
        "\n",
        "# Scenario D: Mode swap for borderline cases (near threshold ±0.05)\n",
        "proba = rf.predict_proba(X_test)[:, 1]\n",
        "border_mask = (np.abs(proba - 0.5) <= 0.05)\n",
        "\n",
        "y_true_D = y_test[border_mask]\n",
        "y_pred_D_base = (proba[border_mask] >= 0.5).astype(int)\n",
        "\n",
        "baseline_D_acc = accuracy_score(y_true_D, y_pred_D_base)\n",
        "baseline_D_f1  = f1_score(y_true_D, y_pred_D_base, zero_division=0)\n",
        "\n",
        "# Swap remote <-> office\n",
        "X_D = X_test.copy()\n",
        "X_D.loc[border_mask, 'is_remote'] = 1 - X_D.loc[border_mask, 'is_remote']\n",
        "y_pred_D_swap = rf.predict(X_D[border_mask])\n",
        "\n",
        "int_D_acc = accuracy_score(y_true_D, y_pred_D_swap)\n",
        "int_D_f1  = f1_score(y_true_D, y_pred_D_swap, zero_division=0)\n",
        "\n",
        "print(\"\\nScenario D (borderline only)\")\n",
        "print(f\"Baseline: Accuracy={baseline_D_acc:.3f}, F1={baseline_D_f1:.3f}\")\n",
        "print(f\"Mode Swap: Accuracy={int_D_acc:.3f}, F1={int_D_f1:.3f}\")\n"
      ],
      "metadata": {
        "colab": {
          "base_uri": "https://localhost:8080/"
        },
        "id": "nbYkRgPhryWn",
        "outputId": "fee4c057-cdcd-4ecc-e15c-10a74b0a0c97"
      },
      "id": "nbYkRgPhryWn",
      "execution_count": 158,
      "outputs": [
        {
          "output_type": "stream",
          "name": "stdout",
          "text": [
            "Scenario C (subgroup only)\n",
            "Baseline: Accuracy=0.571, F1=0.667\n",
            "Intervention: Accuracy=0.571, F1=0.727\n"
          ]
        },
        {
          "output_type": "stream",
          "name": "stderr",
          "text": [
            "/tmp/ipython-input-3695978042.py:13: FutureWarning: Setting an item of incompatible dtype is deprecated and will raise an error in a future version of pandas. Value '[45.6  50.35 57.95 49.4  44.65 48.45 51.3  48.45 43.7  49.4  45.6  45.6\n",
            " 52.25 43.7 ]' has dtype incompatible with int64, please explicitly cast to a compatible dtype first.\n",
            "  X_C.loc[mask_C, 'Hours_Worked_Per_Week'] *= 0.95\n"
          ]
        },
        {
          "output_type": "stream",
          "name": "stdout",
          "text": [
            "\n",
            "Scenario D (borderline only)\n",
            "Baseline: Accuracy=0.474, F1=0.583\n",
            "Mode Swap: Accuracy=0.632, F1=0.774\n"
          ]
        }
      ]
    },
    {
      "cell_type": "markdown",
      "metadata": {
        "id": "DTazMH2uBgLS"
      },
      "source": [
        "## Step 10 — Discussion"
      ],
      "id": "DTazMH2uBgLS"
    },
    {
      "cell_type": "markdown",
      "source": [
        "The three models show complementary perspectives. Logistic Regression is a linear, interpretable baseline;\n",
        "Random Forest balances performance and interpretability; Gradient Boosting often provides strong accuracy.\n",
        "Random Forest is selected for digital-twin simulations due to robustness and feature importance.\n",
        "\n",
        "Feature importance typically ranks well-being and hours as dominant signals, with remote status smaller.\n",
        "What-if simulations show percentage-point changes in predicted productive rate when reducing weekly hours by 10%\n",
        "or increasing well-being by 10 points, supporting evidence-based policy decisions in hybrid work settings."
      ],
      "metadata": {
        "id": "Iu2gPOKiDv8W"
      },
      "id": "Iu2gPOKiDv8W"
    },
    {
      "cell_type": "code",
      "source": [
        "!jupyter nbconvert --to html 'Digital_Twin_Productivity.ipynb'"
      ],
      "metadata": {
        "colab": {
          "base_uri": "https://localhost:8080/"
        },
        "id": "py9OP6w1RN0Q",
        "outputId": "e5c7dae0-e9e0-49d9-80df-db05b9fe60dc"
      },
      "id": "py9OP6w1RN0Q",
      "execution_count": 159,
      "outputs": [
        {
          "output_type": "stream",
          "name": "stdout",
          "text": [
            "[NbConvertApp] WARNING | pattern 'Digital_Twin_Productivity.ipynb' matched no files\n",
            "This application is used to convert notebook files (*.ipynb)\n",
            "        to various other formats.\n",
            "\n",
            "        WARNING: THE COMMANDLINE INTERFACE MAY CHANGE IN FUTURE RELEASES.\n",
            "\n",
            "Options\n",
            "=======\n",
            "The options below are convenience aliases to configurable class-options,\n",
            "as listed in the \"Equivalent to\" description-line of the aliases.\n",
            "To see all configurable class-options for some <cmd>, use:\n",
            "    <cmd> --help-all\n",
            "\n",
            "--debug\n",
            "    set log level to logging.DEBUG (maximize logging output)\n",
            "    Equivalent to: [--Application.log_level=10]\n",
            "--show-config\n",
            "    Show the application's configuration (human-readable format)\n",
            "    Equivalent to: [--Application.show_config=True]\n",
            "--show-config-json\n",
            "    Show the application's configuration (json format)\n",
            "    Equivalent to: [--Application.show_config_json=True]\n",
            "--generate-config\n",
            "    generate default config file\n",
            "    Equivalent to: [--JupyterApp.generate_config=True]\n",
            "-y\n",
            "    Answer yes to any questions instead of prompting.\n",
            "    Equivalent to: [--JupyterApp.answer_yes=True]\n",
            "--execute\n",
            "    Execute the notebook prior to export.\n",
            "    Equivalent to: [--ExecutePreprocessor.enabled=True]\n",
            "--allow-errors\n",
            "    Continue notebook execution even if one of the cells throws an error and include the error message in the cell output (the default behaviour is to abort conversion). This flag is only relevant if '--execute' was specified, too.\n",
            "    Equivalent to: [--ExecutePreprocessor.allow_errors=True]\n",
            "--stdin\n",
            "    read a single notebook file from stdin. Write the resulting notebook with default basename 'notebook.*'\n",
            "    Equivalent to: [--NbConvertApp.from_stdin=True]\n",
            "--stdout\n",
            "    Write notebook output to stdout instead of files.\n",
            "    Equivalent to: [--NbConvertApp.writer_class=StdoutWriter]\n",
            "--inplace\n",
            "    Run nbconvert in place, overwriting the existing notebook (only\n",
            "            relevant when converting to notebook format)\n",
            "    Equivalent to: [--NbConvertApp.use_output_suffix=False --NbConvertApp.export_format=notebook --FilesWriter.build_directory=]\n",
            "--clear-output\n",
            "    Clear output of current file and save in place,\n",
            "            overwriting the existing notebook.\n",
            "    Equivalent to: [--NbConvertApp.use_output_suffix=False --NbConvertApp.export_format=notebook --FilesWriter.build_directory= --ClearOutputPreprocessor.enabled=True]\n",
            "--coalesce-streams\n",
            "    Coalesce consecutive stdout and stderr outputs into one stream (within each cell).\n",
            "    Equivalent to: [--NbConvertApp.use_output_suffix=False --NbConvertApp.export_format=notebook --FilesWriter.build_directory= --CoalesceStreamsPreprocessor.enabled=True]\n",
            "--no-prompt\n",
            "    Exclude input and output prompts from converted document.\n",
            "    Equivalent to: [--TemplateExporter.exclude_input_prompt=True --TemplateExporter.exclude_output_prompt=True]\n",
            "--no-input\n",
            "    Exclude input cells and output prompts from converted document.\n",
            "            This mode is ideal for generating code-free reports.\n",
            "    Equivalent to: [--TemplateExporter.exclude_output_prompt=True --TemplateExporter.exclude_input=True --TemplateExporter.exclude_input_prompt=True]\n",
            "--allow-chromium-download\n",
            "    Whether to allow downloading chromium if no suitable version is found on the system.\n",
            "    Equivalent to: [--WebPDFExporter.allow_chromium_download=True]\n",
            "--disable-chromium-sandbox\n",
            "    Disable chromium security sandbox when converting to PDF..\n",
            "    Equivalent to: [--WebPDFExporter.disable_sandbox=True]\n",
            "--show-input\n",
            "    Shows code input. This flag is only useful for dejavu users.\n",
            "    Equivalent to: [--TemplateExporter.exclude_input=False]\n",
            "--embed-images\n",
            "    Embed the images as base64 dataurls in the output. This flag is only useful for the HTML/WebPDF/Slides exports.\n",
            "    Equivalent to: [--HTMLExporter.embed_images=True]\n",
            "--sanitize-html\n",
            "    Whether the HTML in Markdown cells and cell outputs should be sanitized..\n",
            "    Equivalent to: [--HTMLExporter.sanitize_html=True]\n",
            "--log-level=<Enum>\n",
            "    Set the log level by value or name.\n",
            "    Choices: any of [0, 10, 20, 30, 40, 50, 'DEBUG', 'INFO', 'WARN', 'ERROR', 'CRITICAL']\n",
            "    Default: 30\n",
            "    Equivalent to: [--Application.log_level]\n",
            "--config=<Unicode>\n",
            "    Full path of a config file.\n",
            "    Default: ''\n",
            "    Equivalent to: [--JupyterApp.config_file]\n",
            "--to=<Unicode>\n",
            "    The export format to be used, either one of the built-in formats\n",
            "            ['asciidoc', 'custom', 'html', 'latex', 'markdown', 'notebook', 'pdf', 'python', 'qtpdf', 'qtpng', 'rst', 'script', 'slides', 'webpdf']\n",
            "            or a dotted object name that represents the import path for an\n",
            "            ``Exporter`` class\n",
            "    Default: ''\n",
            "    Equivalent to: [--NbConvertApp.export_format]\n",
            "--template=<Unicode>\n",
            "    Name of the template to use\n",
            "    Default: ''\n",
            "    Equivalent to: [--TemplateExporter.template_name]\n",
            "--template-file=<Unicode>\n",
            "    Name of the template file to use\n",
            "    Default: None\n",
            "    Equivalent to: [--TemplateExporter.template_file]\n",
            "--theme=<Unicode>\n",
            "    Template specific theme(e.g. the name of a JupyterLab CSS theme distributed\n",
            "    as prebuilt extension for the lab template)\n",
            "    Default: 'light'\n",
            "    Equivalent to: [--HTMLExporter.theme]\n",
            "--sanitize_html=<Bool>\n",
            "    Whether the HTML in Markdown cells and cell outputs should be sanitized.This\n",
            "    should be set to True by nbviewer or similar tools.\n",
            "    Default: False\n",
            "    Equivalent to: [--HTMLExporter.sanitize_html]\n",
            "--writer=<DottedObjectName>\n",
            "    Writer class used to write the\n",
            "                                        results of the conversion\n",
            "    Default: 'FilesWriter'\n",
            "    Equivalent to: [--NbConvertApp.writer_class]\n",
            "--post=<DottedOrNone>\n",
            "    PostProcessor class used to write the\n",
            "                                        results of the conversion\n",
            "    Default: ''\n",
            "    Equivalent to: [--NbConvertApp.postprocessor_class]\n",
            "--output=<Unicode>\n",
            "    Overwrite base name use for output files.\n",
            "                Supports pattern replacements '{notebook_name}'.\n",
            "    Default: '{notebook_name}'\n",
            "    Equivalent to: [--NbConvertApp.output_base]\n",
            "--output-dir=<Unicode>\n",
            "    Directory to write output(s) to. Defaults\n",
            "                                  to output to the directory of each notebook. To recover\n",
            "                                  previous default behaviour (outputting to the current\n",
            "                                  working directory) use . as the flag value.\n",
            "    Default: ''\n",
            "    Equivalent to: [--FilesWriter.build_directory]\n",
            "--reveal-prefix=<Unicode>\n",
            "    The URL prefix for reveal.js (version 3.x).\n",
            "            This defaults to the reveal CDN, but can be any url pointing to a copy\n",
            "            of reveal.js.\n",
            "            For speaker notes to work, this must be a relative path to a local\n",
            "            copy of reveal.js: e.g., \"reveal.js\".\n",
            "            If a relative path is given, it must be a subdirectory of the\n",
            "            current directory (from which the server is run).\n",
            "            See the usage documentation\n",
            "            (https://nbconvert.readthedocs.io/en/latest/usage.html#reveal-js-html-slideshow)\n",
            "            for more details.\n",
            "    Default: ''\n",
            "    Equivalent to: [--SlidesExporter.reveal_url_prefix]\n",
            "--nbformat=<Enum>\n",
            "    The nbformat version to write.\n",
            "            Use this to downgrade notebooks.\n",
            "    Choices: any of [1, 2, 3, 4]\n",
            "    Default: 4\n",
            "    Equivalent to: [--NotebookExporter.nbformat_version]\n",
            "\n",
            "Examples\n",
            "--------\n",
            "\n",
            "    The simplest way to use nbconvert is\n",
            "\n",
            "            > jupyter nbconvert mynotebook.ipynb --to html\n",
            "\n",
            "            Options include ['asciidoc', 'custom', 'html', 'latex', 'markdown', 'notebook', 'pdf', 'python', 'qtpdf', 'qtpng', 'rst', 'script', 'slides', 'webpdf'].\n",
            "\n",
            "            > jupyter nbconvert --to latex mynotebook.ipynb\n",
            "\n",
            "            Both HTML and LaTeX support multiple output templates. LaTeX includes\n",
            "            'base', 'article' and 'report'.  HTML includes 'basic', 'lab' and\n",
            "            'classic'. You can specify the flavor of the format used.\n",
            "\n",
            "            > jupyter nbconvert --to html --template lab mynotebook.ipynb\n",
            "\n",
            "            You can also pipe the output to stdout, rather than a file\n",
            "\n",
            "            > jupyter nbconvert mynotebook.ipynb --stdout\n",
            "\n",
            "            PDF is generated via latex\n",
            "\n",
            "            > jupyter nbconvert mynotebook.ipynb --to pdf\n",
            "\n",
            "            You can get (and serve) a Reveal.js-powered slideshow\n",
            "\n",
            "            > jupyter nbconvert myslides.ipynb --to slides --post serve\n",
            "\n",
            "            Multiple notebooks can be given at the command line in a couple of\n",
            "            different ways:\n",
            "\n",
            "            > jupyter nbconvert notebook*.ipynb\n",
            "            > jupyter nbconvert notebook1.ipynb notebook2.ipynb\n",
            "\n",
            "            or you can specify the notebooks list in a config file, containing::\n",
            "\n",
            "                c.NbConvertApp.notebooks = [\"my_notebook.ipynb\"]\n",
            "\n",
            "            > jupyter nbconvert --config mycfg.py\n",
            "\n",
            "To see all available configurables, use `--help-all`.\n",
            "\n"
          ]
        }
      ]
    }
  ],
  "metadata": {
    "colab": {
      "provenance": []
    },
    "kernelspec": {
      "display_name": "Python 3",
      "language": "python",
      "name": "python3"
    },
    "language_info": {
      "name": "python",
      "version": "3.x"
    }
  },
  "nbformat": 4,
  "nbformat_minor": 5
}